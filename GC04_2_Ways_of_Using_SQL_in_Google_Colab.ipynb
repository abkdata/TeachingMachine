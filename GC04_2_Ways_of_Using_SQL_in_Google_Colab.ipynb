{
  "nbformat": 4,
  "nbformat_minor": 0,
  "metadata": {
    "colab": {
      "provenance": [],
      "include_colab_link": true
    },
    "kernelspec": {
      "name": "python3",
      "display_name": "Python 3"
    },
    "language_info": {
      "name": "python"
    }
  },
  "cells": [
    {
      "cell_type": "markdown",
      "metadata": {
        "id": "view-in-github",
        "colab_type": "text"
      },
      "source": [
        "<a href=\"https://colab.research.google.com/github/abkdata/TeachingMachine/blob/master/GC04_2_Ways_of_Using_SQL_in_Google_Colab.ipynb\" target=\"_parent\"><img src=\"https://colab.research.google.com/assets/colab-badge.svg\" alt=\"Open In Colab\"/></a>"
      ]
    },
    {
      "cell_type": "markdown",
      "source": [
        "Data Manipulation with SQLite and Magic Commands in Google Colab"
      ],
      "metadata": {
        "id": "8l6fnRgHi1Ka"
      }
    },
    {
      "cell_type": "markdown",
      "source": [
        "# Resources"
      ],
      "metadata": {
        "id": "Oyr03SwHUCsG"
      }
    },
    {
      "cell_type": "markdown",
      "source": [
        "* [Blog post]() for this notebook\n",
        "* Video tutorial on [YouTube]()\n",
        "* More video tutorials on [Google Colab](https://www.youtube.com/playlist?list=PLVppujud2yJpPpGIeKjCnkdmGVDlhB9ud)\n",
        "* More blog posts on [Google Colab](https://medium.com/@AmyGrabNGoInfo/list/google-colab-fb4902ae368d)\n",
        "\n",
        "\n",
        "For more information about data science and machine learning, please check out my [YouTube channel](https://www.youtube.com/channel/UCmbA7XB6Wb7bLwJw9ARPcYg), [Medium Page](https://medium.com/@AmyGrabNGoInfo) and [GrabNGoInfo.com](https://grabngoinfo.com/tutorials/), or follow GrabNGoInfo on [LinkedIn](https://www.linkedin.com/company/grabngoinfo/)."
      ],
      "metadata": {
        "id": "pSxyU0cFUGGl"
      }
    },
    {
      "cell_type": "markdown",
      "source": [
        "# Intro"
      ],
      "metadata": {
        "id": "sndCC-PHT2K3"
      }
    },
    {
      "cell_type": "markdown",
      "source": [
        "Google Colab has become an indispensable tool for data scientists and machine learning practitioners. It provides a free, collaborative, and cloud-based environment to write and execute Python code. Yet, many users don't realize that they can also use SQL, the go-to language for data manipulation and querying, directly within Colab.\n",
        "\n",
        "In this guide, we'll explore two approaches to using SQL within Google Colab: using Python's SQLite library and using magic commands. By the end, you'll have a solid understanding of how to create, populate, and query a SQL database within your Colab environment.\n",
        "\n",
        "If you are new to Google Colab, please check out my tutorial [Google Colab Tutorial For Beginners](https://grabngoinfo.com/google-colab-tutorial-for-beginners/).\n",
        "\n",
        "Let's get started!\n",
        "\n"
      ],
      "metadata": {
        "id": "GdfcVJ6TyxdR"
      }
    },
    {
      "cell_type": "markdown",
      "source": [
        "# Approach 1: Using SQLite Database Cursor"
      ],
      "metadata": {
        "id": "hYq4JUbHQ2v7"
      }
    },
    {
      "cell_type": "markdown",
      "source": [
        "[SQLite](https://www.sqlite.org/index.html) is a self-contained, serverless, and zero-configuration database engine. Python comes with built-in support for SQLite, meaning no additional installation steps are needed.\n",
        "\n",
        "Let's start by creating a database and a table. In your Google Colab notebook, import the sqlite3 module and establish a connection to the database. For this example, we'll use an in-memory database, denoted by `:memory:`."
      ],
      "metadata": {
        "id": "S5YgWSmurL2l"
      }
    },
    {
      "cell_type": "code",
      "source": [
        "# Import library\n",
        "import sqlite3\n",
        "\n",
        "# Connect to an SQLite database; use ':memory:' for an in-memory database\n",
        "conn = sqlite3.connect(':memory:')"
      ],
      "metadata": {
        "id": "1R0MOygPsbHe"
      },
      "execution_count": null,
      "outputs": []
    },
    {
      "cell_type": "markdown",
      "source": [
        "With the connection established, we can now create a table. Let's create a table named stocks with five columns (date, trans, symbol, qty, price)."
      ],
      "metadata": {
        "id": "X7hUStGUrLzM"
      }
    },
    {
      "cell_type": "code",
      "source": [
        "# Execute a SQL command to create a new table\n",
        "c = conn.cursor()\n",
        "c.execute('''\n",
        "          CREATE TABLE stocks\n",
        "          (date text, trans text, symbol text, qty real, price real)\n",
        "          ''')"
      ],
      "metadata": {
        "colab": {
          "base_uri": "https://localhost:8080/"
        },
        "id": "qgKPZud9tdPW",
        "outputId": "c647403b-fbb0-4461-ab06-a3ac6db6f448"
      },
      "execution_count": null,
      "outputs": [
        {
          "output_type": "execute_result",
          "data": {
            "text/plain": [
              "<sqlite3.Cursor at 0x7fa894d199c0>"
            ]
          },
          "metadata": {},
          "execution_count": 2
        }
      ]
    },
    {
      "cell_type": "markdown",
      "source": [
        "We can insert data into our stocks table using standard SQL `INSERT` syntax. As an example, we inserted the date of January 5, 2006, the transaction action of buying, the stock name of ABC, the quantity of 100, and the price of 35.14 dollars.\n",
        "\n",
        "Then, we `commit` the transaction to save changes to the database."
      ],
      "metadata": {
        "id": "p-FD_KWcrLvS"
      }
    },
    {
      "cell_type": "code",
      "source": [
        "# Execute a SQL command to insert data into the table\n",
        "c.execute(\"INSERT INTO stocks VALUES ('2006-01-05','BUY','ABC',100,35.14)\")\n",
        "\n",
        "# Commit the transaction to save changes to the database\n",
        "conn.commit()\n"
      ],
      "metadata": {
        "id": "-kxlowxItl5G"
      },
      "execution_count": null,
      "outputs": []
    },
    {
      "cell_type": "markdown",
      "source": [
        "Now that we have a populated database, we can start running SQL queries on it. Let's select all `BUY` transactions from our stocks table and print the output by fetching all the results from the execution."
      ],
      "metadata": {
        "id": "FLc6CBIcrLrp"
      }
    },
    {
      "cell_type": "code",
      "source": [
        "# Execute a SQL SELECT statement to query the database\n",
        "c.execute(\"SELECT * FROM stocks WHERE trans='BUY'\")\n",
        "\n",
        "# Fetch all rows from the result of the query\n",
        "print(c.fetchall())"
      ],
      "metadata": {
        "colab": {
          "base_uri": "https://localhost:8080/"
        },
        "id": "UZmXZqIvtqsu",
        "outputId": "bdaedc8c-a95a-4082-d822-7233722d7037"
      },
      "execution_count": null,
      "outputs": [
        {
          "output_type": "stream",
          "name": "stdout",
          "text": [
            "[('2006-01-05', 'BUY', 'ABC', 100.0, 35.14)]\n"
          ]
        }
      ]
    },
    {
      "cell_type": "markdown",
      "source": [
        "# Approach 2: Using Magic Commands"
      ],
      "metadata": {
        "id": "5qkocbH3JbQu"
      }
    },
    {
      "cell_type": "markdown",
      "source": [
        "Magic commands are a feature of IPython that provides a set of commands to solve common problems while working with data. The SQL magic command is one such command that lets you write SQL queries in your notebook.\n",
        "\n",
        "First, we need to install the ipython-sql extension. This can be done directly in a Colab cell:"
      ],
      "metadata": {
        "id": "h0hzyeVcJpwC"
      }
    },
    {
      "cell_type": "code",
      "source": [
        "# Install ipython-sql\n",
        "!pip install ipython-sql"
      ],
      "metadata": {
        "id": "wqPvsyTxJqu2"
      },
      "execution_count": null,
      "outputs": []
    },
    {
      "cell_type": "markdown",
      "source": [
        "Next, load the SQL extension and create a SQLite database:"
      ],
      "metadata": {
        "id": "OM8zqHaYJ3F5"
      }
    },
    {
      "cell_type": "code",
      "source": [
        "# Load the SQL extension\n",
        "%load_ext sql\n",
        "\n",
        "# Create a SQLite database\n",
        "%sql sqlite://"
      ],
      "metadata": {
        "id": "2zNp62GuiR8N"
      },
      "execution_count": null,
      "outputs": []
    },
    {
      "cell_type": "markdown",
      "source": [
        "Now you can write SQL queries using the %sql or %%sql magic command. % is for single-line commands, and %% is for multi-line commands that run the whole cell as SQL. Here's an example of executing SQL commands to create a table, insert data, and run a query using %%sql."
      ],
      "metadata": {
        "id": "lSmZORfPKBhQ"
      }
    },
    {
      "cell_type": "code",
      "source": [
        "# Execute SQL commands to create a table, insert data, and run a query\n",
        "%%sql\n",
        "CREATE TABLE test_table(name, age);\n",
        "INSERT INTO test_table VALUES('Alice', 24);\n",
        "SELECT * FROM test_table;"
      ],
      "metadata": {
        "colab": {
          "base_uri": "https://localhost:8080/",
          "height": 133
        },
        "id": "yQFdq25fI5EK",
        "outputId": "e6417ed6-818f-42f0-ee63-5c17bc9101e2"
      },
      "execution_count": null,
      "outputs": [
        {
          "output_type": "stream",
          "name": "stdout",
          "text": [
            "*  sqlite://\n",
            "Done.\n",
            "1 rows affected.\n",
            "Done.\n"
          ]
        },
        {
          "output_type": "execute_result",
          "data": {
            "text/plain": [
              "+-------+-----+\n",
              "|  name | age |\n",
              "+-------+-----+\n",
              "| Alice |  24 |\n",
              "+-------+-----+"
            ],
            "text/html": [
              "<table>\n",
              "    <tr>\n",
              "        <th>name</th>\n",
              "        <th>age</th>\n",
              "    </tr>\n",
              "    <tr>\n",
              "        <td>Alice</td>\n",
              "        <td>24</td>\n",
              "    </tr>\n",
              "</table>"
            ]
          },
          "metadata": {},
          "execution_count": 6
        }
      ]
    },
    {
      "cell_type": "markdown",
      "source": [
        "# Conclusion"
      ],
      "metadata": {
        "id": "AGkrjz-XKUZ4"
      }
    },
    {
      "cell_type": "markdown",
      "source": [
        "Google Colab is a powerful tool that's not just limited to Python. With its support for SQL through Python libraries like SQLite and magic commands, it becomes an even more versatile platform for data analysis and machine learning tasks.\n",
        "\n",
        "If you are interested in using Google Colab with R, please check out my previous tutorial [How to Use R with Google Colab Notebook](https://medium.com/grabngoinfo/how-to-use-r-with-google-colab-notebook-610c3a2f0eab)."
      ],
      "metadata": {
        "id": "mS90pZvmKXH4"
      }
    },
    {
      "cell_type": "markdown",
      "source": [
        "# Recommended Tutorials"
      ],
      "metadata": {
        "id": "09LU7ImF3PIK"
      }
    },
    {
      "cell_type": "markdown",
      "source": [
        "- [GrabNGoInfo Machine Learning Tutorials Inventory](https://medium.com/grabngoinfo/grabngoinfo-machine-learning-tutorials-inventory-9b9d78ebdd67)\n",
        "* [Google Colab Tutorial For Beginners](https://grabngoinfo.com/google-colab-tutorial-for-beginners/)\n",
        "- [Hierarchical Topic Model for Airbnb Reviews](https://medium.com/p/hierarchical-topic-model-for-airbnb-reviews-f772eaa30434)\n",
        "- [How to Use R with Google Colab Notebook](https://medium.com/p/how-to-use-r-with-google-colab-notebook-610c3a2f0eab)\n",
        "- [3 Ways for Multiple Time Series Forecasting Using Prophet in Python](https://medium.com/p/3-ways-for-multiple-time-series-forecasting-using-prophet-in-python-7a0709a117f9)\n",
        "- [Time Series Anomaly Detection Using Prophet in Python](https://medium.com/grabngoinfo/time-series-anomaly-detection-using-prophet-in-python-877d2b7b14b4)\n",
        "- [Time Series Causal Impact Analysis in Python](https://medium.com/grabngoinfo/time-series-causal-impact-analysis-in-python-63eacb1df5cc)\n",
        "- [Hyperparameter Tuning For XGBoost](https://medium.com/p/hyperparameter-tuning-for-xgboost-91449869c57e)\n",
        "- [Four Oversampling And Under-Sampling Methods For Imbalanced Classification Using Python](https://medium.com/p/four-oversampling-and-under-sampling-methods-for-imbalanced-classification-using-python-7304aedf9037)\n",
        "- [Five Ways To Create Tables In Databricks](https://medium.com/grabngoinfo/five-ways-to-create-tables-in-databricks-cd3847cfc3aa)\n",
        "- [Explainable S-Learner Uplift Model Using Python Package CausalML](https://medium.com/grabngoinfo/explainable-s-learner-uplift-model-using-python-package-causalml-a3c2bed3497c)\n",
        "- [One-Class SVM For Anomaly Detection](https://medium.com/p/one-class-svm-for-anomaly-detection-6c97fdd6d8af)\n",
        "- [Recommendation System: Item-Based Collaborative Filtering](https://medium.com/grabngoinfo/recommendation-system-item-based-collaborative-filtering-f5078504996a)\n",
        "- [Hyperparameter Tuning for Time Series Causal Impact Analysis in Python](https://medium.com/grabngoinfo/hyperparameter-tuning-for-time-series-causal-impact-analysis-in-python-c8f7246c4d22)\n",
        "- [Hyperparameter Tuning and Regularization for Time Series Model Using Prophet in Python](https://medium.com/grabngoinfo/hyperparameter-tuning-and-regularization-for-time-series-model-using-prophet-in-python-9791370a07dc)\n",
        "- [Multivariate Time Series Forecasting with Seasonality and Holiday Effect Using Prophet in Python](https://medium.com/p/multivariate-time-series-forecasting-with-seasonality-and-holiday-effect-using-prophet-in-python-d5d4150eeb57)\n",
        "- [LASSO (L1) Vs Ridge (L2) Vs Elastic Net Regularization For Classification Model](https://medium.com/towards-artificial-intelligence/lasso-l1-vs-ridge-l2-vs-elastic-net-regularization-for-classification-model-409c3d86f6e9)\n",
        "- [S Learner Uplift Model for Individual Treatment Effect and Customer Segmentation in Python](https://medium.com/grabngoinfo/s-learner-uplift-model-for-individual-treatment-effect-and-customer-segmentation-in-python-9d410746e122)"
      ],
      "metadata": {
        "id": "kwM079w63ZU8"
      }
    },
    {
      "cell_type": "markdown",
      "source": [
        "# References"
      ],
      "metadata": {
        "id": "X-xomy1nxPob"
      }
    },
    {
      "cell_type": "markdown",
      "source": [
        "* [SQLite website](https://www.sqlite.org/index.html)\n",
        "* [Jupysql documentation](https://jupysql.ploomber.io/en/latest/quick-start.html)\n"
      ],
      "metadata": {
        "id": "C0fwR71DxRsk"
      }
    }
  ]
}